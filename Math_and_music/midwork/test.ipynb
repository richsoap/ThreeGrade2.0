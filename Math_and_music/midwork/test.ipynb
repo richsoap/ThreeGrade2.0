{
 "cells": [
  {
   "cell_type": "code",
   "execution_count": 5,
   "metadata": {},
   "outputs": [
    {
     "name": "stdout",
     "output_type": "stream",
     "text": [
      "True\n",
      "True\n",
      "True\n",
      "True\n",
      "True\n",
      "True\n",
      "True\n",
      "True\n",
      "True\n",
      "True\n",
      "True\n",
      "True\n",
      "True\n",
      "True\n",
      "True\n",
      "True\n",
      "True\n",
      "True\n",
      "True\n",
      "True\n",
      "True\n",
      "True\n",
      "True\n",
      "True\n",
      "True\n"
     ]
    },
    {
     "data": {
      "text/plain": [
       "True"
      ]
     },
     "execution_count": 5,
     "metadata": {},
     "output_type": "execute_result"
    }
   ],
   "source": [
    "from mingus.containers import Bar\n",
    "from mingus.containers import Track\n",
    "from mingus.midi import midi_file_out\n",
    "import numpy as np\n",
    "\n",
    "b1 = Bar('C',(4,4))\n",
    "b2 = Bar('C',(4,4))\n",
    "notes = [[\"C-5\",2],[\"C#-5\",2],[\"C-5\",4],[\"E-5\",4],[\"G-5\",4],[\"A-5\",4],\n",
    "         [\"F-5\",2],[\"E-5\",2],[\"A-4\",4],[\"C-5\",4],[\"C-5\",4],[\"C-5\",8],[\"B-4\",8],\n",
    "         [\"C-5\",8],[\"B-4\",8],[\"C-5\",8],[\"E-4\",8],[\"G-4\",4],[\"B-4\",4],\n",
    "         [\"C-5\",4],[\"E-5\",4],[\"G-5\",8],[\"E-5\",8],[\"G-5\",8],[\"A-5\",8],\n",
    "        ]\n",
    "notes = np.array(notes)\n",
    "track = Track()\n",
    "for i in range(len(notes)):\n",
    "    print track.add_notes(notes[i,0].tostring(),int(notes[i,1]))\n",
    "\n",
    "midi_file_out.write_Track(\"test.mid\",track,bpm=80)"
   ]
  },
  {
   "cell_type": "code",
   "execution_count": 13,
   "metadata": {},
   "outputs": [
    {
     "data": {
      "text/plain": [
       "3"
      ]
     },
     "execution_count": 13,
     "metadata": {},
     "output_type": "execute_result"
    }
   ],
   "source": []
  },
  {
   "cell_type": "code",
   "execution_count": null,
   "metadata": {},
   "outputs": [],
   "source": []
  }
 ],
 "metadata": {
  "kernelspec": {
   "display_name": "Python 2",
   "language": "python",
   "name": "python2"
  },
  "language_info": {
   "codemirror_mode": {
    "name": "ipython",
    "version": 2
   },
   "file_extension": ".py",
   "mimetype": "text/x-python",
   "name": "python",
   "nbconvert_exporter": "python",
   "pygments_lexer": "ipython2",
   "version": "2.7.12"
  }
 },
 "nbformat": 4,
 "nbformat_minor": 2
}
