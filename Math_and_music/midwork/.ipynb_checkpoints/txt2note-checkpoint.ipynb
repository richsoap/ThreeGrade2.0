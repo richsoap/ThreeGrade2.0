{
 "cells": [
  {
   "cell_type": "code",
   "execution_count": 44,
   "metadata": {},
   "outputs": [],
   "source": [
    "import sys\n",
    "import numpy as np\n",
    "\n",
    "notedic = {}\n",
    "smallnotedic = {'0':'C','1':'D','2':'E','3':'F','4':'G','5':'A','6':'B'}\n",
    "\n",
    "#if(len(sys.argv) != 3):\n",
    "#    print \"Wrong argv!\"\n",
    "#    exit()\n",
    "#with open('sys.argv[2]') as f:\n",
    "with open('transtest.txt') as f:\n",
    "    contents = f.read()\n",
    "    index = 0\n",
    "    for i in range(3):\n",
    "        for j in range(7):\n",
    "            notedic[contents[index]] = smallnotedic[str(j)] + '-' + str(5-i)\n",
    "            index = index + 1\n",
    "    for i in range(3):\n",
    "        for j in range(7):\n",
    "            notedic[contents[index]] = smallnotedic[str(j)] + '#-' + str(5-i)\n",
    "            index = index + 1\n",
    "    notedic[' '] = 'none'\n",
    "            \n",
    "#with open('sys.argv[1]') as f:\n",
    "with open('canon.txt') as f:\n",
    "    contents = f.read()\n",
    "    notes = []\n",
    "    chords = []\n",
    "    duration = []\n",
    "    dur0 = ''\n",
    "    dur1 = ''\n",
    "    state = 0\n",
    "    dura_state = 0\n",
    "    for i in range(len(contents)):\n",
    "        if(contents[i] >= '0' and contents[i] <= '9'):\n",
    "            if(dura_state == 0):\n",
    "                dur0 = dur0 + contents[i]\n",
    "            else:\n",
    "                dur1 = dur1 + contents[i]\n",
    "        elif(contents[i] == '\\n'):\n",
    "            continue\n",
    "        elif(contents[i] == '['):\n",
    "            state = 1\n",
    "            if(dur0 != ''):\n",
    "                if(dura_state == 0):\n",
    "                    duration.append(dur0)\n",
    "                else:\n",
    "                    duration.append(float(int(dur0))/float(int(dur1)))\n",
    "                dur0 = str()\n",
    "                dur1 = str()\n",
    "                dura_state = 0\n",
    "        elif(contents[i] == ']'):\n",
    "            state = 0\n",
    "            notes.append(chords)\n",
    "            chords = []\n",
    "            if(dura_state == 0):\n",
    "                duration.append(dur0)\n",
    "            else:\n",
    "                duration.append(float(int(dur0))/float(int(dur1)))\n",
    "            dur0 = str()\n",
    "            dur1 = str()\n",
    "            dura_state = 0\n",
    "        elif(contents[i] == '/'):\n",
    "            dura_state = 1\n",
    "        else:\n",
    "            if(state == 0):\n",
    "                notes.append([notedic[contents[i]]])\n",
    "                if(dur0 != ''):\n",
    "                    if(dura_state == 0):\n",
    "                        duration.append(dur0)\n",
    "                    else:\n",
    "                        duration.append(float(int(dur0))/float(int(dur1)))\n",
    "                    dur0 = str()\n",
    "                    dur1 = str()\n",
    "                    dura_state = 0\n",
    "            else:\n",
    "                chords.append(notedic[contents[i]])\n",
    "    if(dur0 != ''):\n",
    "        if(dura_state == 0):\n",
    "            duration.append(dur0)\n",
    "        else:\n",
    "            duration.append(float(int(dur0))/float(int(dur1)))\n",
    "        dur0 = str()\n",
    "        dur1 = str()\n",
    "        dura_state = 0\n",
    "    output = np.array([notes,duration])\n",
    "    output = output.T\n",
    "    np.save('canon.npy',output)"
   ]
  },
  {
   "cell_type": "code",
   "execution_count": 41,
   "metadata": {},
   "outputs": [
    {
     "data": {
      "text/plain": [
       "140"
      ]
     },
     "execution_count": 41,
     "metadata": {},
     "output_type": "execute_result"
    }
   ],
   "source": [
    "len(notes)"
   ]
  },
  {
   "cell_type": "code",
   "execution_count": 40,
   "metadata": {},
   "outputs": [
    {
     "data": {
      "text/plain": [
       "140"
      ]
     },
     "execution_count": 40,
     "metadata": {},
     "output_type": "execute_result"
    }
   ],
   "source": [
    "len(duration)"
   ]
  },
  {
   "cell_type": "code",
   "execution_count": 21,
   "metadata": {},
   "outputs": [
    {
     "data": {
      "text/plain": [
       "array([['C-4', 'C-4', 'C-4'],\n",
       "       ['1', '2', '4']], dtype='|S3')"
      ]
     },
     "execution_count": 21,
     "metadata": {},
     "output_type": "execute_result"
    }
   ],
   "source": [
    "output"
   ]
  },
  {
   "cell_type": "code",
   "execution_count": 7,
   "metadata": {},
   "outputs": [
    {
     "data": {
      "text/plain": [
       "0.6666666666666666"
      ]
     },
     "execution_count": 7,
     "metadata": {},
     "output_type": "execute_result"
    }
   ],
   "source": [
    "float(2)/3"
   ]
  },
  {
   "cell_type": "code",
   "execution_count": null,
   "metadata": {},
   "outputs": [],
   "source": []
  }
 ],
 "metadata": {
  "kernelspec": {
   "display_name": "Python 2",
   "language": "python",
   "name": "python2"
  },
  "language_info": {
   "codemirror_mode": {
    "name": "ipython",
    "version": 2
   },
   "file_extension": ".py",
   "mimetype": "text/x-python",
   "name": "python",
   "nbconvert_exporter": "python",
   "pygments_lexer": "ipython2",
   "version": "2.7.12"
  }
 },
 "nbformat": 4,
 "nbformat_minor": 2
}
