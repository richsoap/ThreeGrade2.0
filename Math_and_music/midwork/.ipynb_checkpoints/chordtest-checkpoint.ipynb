{
 "cells": [
  {
   "cell_type": "code",
   "execution_count": 8,
   "metadata": {},
   "outputs": [
    {
     "name": "stdout",
     "output_type": "stream",
     "text": [
      "note add done\n"
     ]
    },
    {
     "data": {
      "text/plain": [
       "True"
      ]
     },
     "execution_count": 8,
     "metadata": {},
     "output_type": "execute_result"
    }
   ],
   "source": [
    "from mingus.containers import Bar\n",
    "from mingus.containers import Track\n",
    "from mingus.containers import Composition\n",
    "from mingus.midi import midi_file_out\n",
    "import numpy as np\n",
    "\n",
    "track1 = Track()\n",
    "track1.add_notes(['C-4','E-4','G-4'],8/3)\n",
    "track1.add_notes(['C-3'],8)\n",
    "track2 = Track()\n",
    "#track2.add_notes(['C-5'],2)\n",
    "#track2.add_notes(['C-5'],2)\n",
    "track3 = Track()\n",
    "#track3.add_notes('G-4',1)\n",
    "composition = Composition()\n",
    "composition.add_track(track1)\n",
    "composition.add_track(track2)\n",
    "composition.add_track(track3)\n",
    "print 'note add done'\n",
    "midi_file_out.write_Composition(\"chordtest.mid\",composition,bpm=80)\n",
    "#midi_file_out.write_Track(\"chordtest.mid\",track,bpm=80)"
   ]
  },
  {
   "cell_type": "code",
   "execution_count": 6,
   "metadata": {},
   "outputs": [
    {
     "data": {
      "text/plain": [
       "[None, [[[0.0, 1, ['C-4', 'E-4', 'G-4']]], [[0.0, 3, ['C-4']]]]]"
      ]
     },
     "execution_count": 6,
     "metadata": {},
     "output_type": "execute_result"
    }
   ],
   "source": [
    "track1"
   ]
  },
  {
   "cell_type": "code",
   "execution_count": null,
   "metadata": {},
   "outputs": [],
   "source": []
  }
 ],
 "metadata": {
  "kernelspec": {
   "display_name": "Python 2",
   "language": "python",
   "name": "python2"
  },
  "language_info": {
   "codemirror_mode": {
    "name": "ipython",
    "version": 2
   },
   "file_extension": ".py",
   "mimetype": "text/x-python",
   "name": "python",
   "nbconvert_exporter": "python",
   "pygments_lexer": "ipython2",
   "version": "2.7.12"
  }
 },
 "nbformat": 4,
 "nbformat_minor": 2
}
